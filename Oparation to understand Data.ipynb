{
 "cells": [
  {
   "cell_type": "code",
   "execution_count": 1,
   "id": "3112e5c4-515e-4755-953e-b50a898dd938",
   "metadata": {},
   "outputs": [],
   "source": [
    "import pandas as pd\n",
    "df=pd.read_csv('Companies in india')"
   ]
  },
  {
   "cell_type": "code",
   "execution_count": 2,
   "id": "ccfc6657-2410-4b06-9288-4d2d4b647031",
   "metadata": {},
   "outputs": [
    {
     "data": {
      "text/html": [
       "<div>\n",
       "<style scoped>\n",
       "    .dataframe tbody tr th:only-of-type {\n",
       "        vertical-align: middle;\n",
       "    }\n",
       "\n",
       "    .dataframe tbody tr th {\n",
       "        vertical-align: top;\n",
       "    }\n",
       "\n",
       "    .dataframe thead th {\n",
       "        text-align: right;\n",
       "    }\n",
       "</style>\n",
       "<table border=\"1\" class=\"dataframe\">\n",
       "  <thead>\n",
       "    <tr style=\"text-align: right;\">\n",
       "      <th></th>\n",
       "      <th>Unnamed: 0</th>\n",
       "      <th>Name</th>\n",
       "      <th>Type</th>\n",
       "      <th>Location</th>\n",
       "      <th>Ratings</th>\n",
       "      <th>Review</th>\n",
       "    </tr>\n",
       "  </thead>\n",
       "  <tbody>\n",
       "    <tr>\n",
       "      <th>0</th>\n",
       "      <td>0</td>\n",
       "      <td>TCS</td>\n",
       "      <td>IT Services &amp; Consulting</td>\n",
       "      <td>Bangalore / Bengaluru +390 other locations</td>\n",
       "      <td>3.7</td>\n",
       "      <td>90.7k</td>\n",
       "    </tr>\n",
       "    <tr>\n",
       "      <th>1</th>\n",
       "      <td>1</td>\n",
       "      <td>Accenture</td>\n",
       "      <td>IT Services &amp; Consulting</td>\n",
       "      <td>Bangalore / Bengaluru +206 other locations</td>\n",
       "      <td>3.8</td>\n",
       "      <td>57.1k</td>\n",
       "    </tr>\n",
       "    <tr>\n",
       "      <th>2</th>\n",
       "      <td>2</td>\n",
       "      <td>Wipro</td>\n",
       "      <td>IT Services &amp; Consulting</td>\n",
       "      <td>Bangalore / Bengaluru +342 other locations</td>\n",
       "      <td>3.7</td>\n",
       "      <td>53.6k</td>\n",
       "    </tr>\n",
       "    <tr>\n",
       "      <th>3</th>\n",
       "      <td>3</td>\n",
       "      <td>Cognizant</td>\n",
       "      <td>IT Services &amp; Consulting</td>\n",
       "      <td>Chennai +192 other locations</td>\n",
       "      <td>3.7</td>\n",
       "      <td>50.7k</td>\n",
       "    </tr>\n",
       "    <tr>\n",
       "      <th>4</th>\n",
       "      <td>4</td>\n",
       "      <td>Capgemini</td>\n",
       "      <td>IT Services &amp; Consulting</td>\n",
       "      <td>Bangalore / Bengaluru +168 other locations</td>\n",
       "      <td>3.7</td>\n",
       "      <td>42.2k</td>\n",
       "    </tr>\n",
       "    <tr>\n",
       "      <th>...</th>\n",
       "      <td>...</td>\n",
       "      <td>...</td>\n",
       "      <td>...</td>\n",
       "      <td>...</td>\n",
       "      <td>...</td>\n",
       "      <td>...</td>\n",
       "    </tr>\n",
       "    <tr>\n",
       "      <th>9975</th>\n",
       "      <td>9975</td>\n",
       "      <td>Nectar Infotel Solutions</td>\n",
       "      <td>IT Services &amp; Consulting</td>\n",
       "      <td>Pune +18 other locations</td>\n",
       "      <td>2.9</td>\n",
       "      <td>85</td>\n",
       "    </tr>\n",
       "    <tr>\n",
       "      <th>9976</th>\n",
       "      <td>9976</td>\n",
       "      <td>Turner International</td>\n",
       "      <td>Engineering &amp; Construction</td>\n",
       "      <td>Mumbai +10 other locations</td>\n",
       "      <td>4.2</td>\n",
       "      <td>85</td>\n",
       "    </tr>\n",
       "    <tr>\n",
       "      <th>9977</th>\n",
       "      <td>9977</td>\n",
       "      <td>Denso Kirloskar Industries</td>\n",
       "      <td>Bangalore / Bengaluru +2 other locations</td>\n",
       "      <td>NaN</td>\n",
       "      <td>3.6</td>\n",
       "      <td>85</td>\n",
       "    </tr>\n",
       "    <tr>\n",
       "      <th>9978</th>\n",
       "      <td>9978</td>\n",
       "      <td>Nice Software Solutions</td>\n",
       "      <td>IT Services &amp; Consulting</td>\n",
       "      <td>Nagpur +2 other locations</td>\n",
       "      <td>2.9</td>\n",
       "      <td>85</td>\n",
       "    </tr>\n",
       "    <tr>\n",
       "      <th>9979</th>\n",
       "      <td>9979</td>\n",
       "      <td>Quampetence Business Solutions</td>\n",
       "      <td>BPO</td>\n",
       "      <td>Gurgaon / Gurugram +2 other locations</td>\n",
       "      <td>3.2</td>\n",
       "      <td>85</td>\n",
       "    </tr>\n",
       "  </tbody>\n",
       "</table>\n",
       "<p>9980 rows × 6 columns</p>\n",
       "</div>"
      ],
      "text/plain": [
       "      Unnamed: 0                            Name  \\\n",
       "0              0                             TCS   \n",
       "1              1                       Accenture   \n",
       "2              2                           Wipro   \n",
       "3              3                       Cognizant   \n",
       "4              4                       Capgemini   \n",
       "...          ...                             ...   \n",
       "9975        9975        Nectar Infotel Solutions   \n",
       "9976        9976            Turner International   \n",
       "9977        9977      Denso Kirloskar Industries   \n",
       "9978        9978         Nice Software Solutions   \n",
       "9979        9979  Quampetence Business Solutions   \n",
       "\n",
       "                                          Type  \\\n",
       "0                    IT Services & Consulting    \n",
       "1                    IT Services & Consulting    \n",
       "2                    IT Services & Consulting    \n",
       "3                    IT Services & Consulting    \n",
       "4                    IT Services & Consulting    \n",
       "...                                        ...   \n",
       "9975                 IT Services & Consulting    \n",
       "9976               Engineering & Construction    \n",
       "9977  Bangalore / Bengaluru +2 other locations   \n",
       "9978                 IT Services & Consulting    \n",
       "9979                                      BPO    \n",
       "\n",
       "                                         Location  Ratings Review  \n",
       "0      Bangalore / Bengaluru +390 other locations      3.7  90.7k  \n",
       "1      Bangalore / Bengaluru +206 other locations      3.8  57.1k  \n",
       "2      Bangalore / Bengaluru +342 other locations      3.7  53.6k  \n",
       "3                    Chennai +192 other locations      3.7  50.7k  \n",
       "4      Bangalore / Bengaluru +168 other locations      3.7  42.2k  \n",
       "...                                           ...      ...    ...  \n",
       "9975                     Pune +18 other locations      2.9     85  \n",
       "9976                   Mumbai +10 other locations      4.2     85  \n",
       "9977                                          NaN      3.6     85  \n",
       "9978                    Nagpur +2 other locations      2.9     85  \n",
       "9979        Gurgaon / Gurugram +2 other locations      3.2     85  \n",
       "\n",
       "[9980 rows x 6 columns]"
      ]
     },
     "execution_count": 2,
     "metadata": {},
     "output_type": "execute_result"
    }
   ],
   "source": [
    "df"
   ]
  },
  {
   "cell_type": "code",
   "execution_count": 3,
   "id": "e96cffc0-d4ac-4ba6-8658-2e56fe7cc610",
   "metadata": {},
   "outputs": [
    {
     "data": {
      "text/plain": [
       "(9980, 6)"
      ]
     },
     "execution_count": 3,
     "metadata": {},
     "output_type": "execute_result"
    }
   ],
   "source": [
    "df.shape"
   ]
  },
  {
   "cell_type": "code",
   "execution_count": 4,
   "id": "baae2f38-8bde-4449-9495-908205c20275",
   "metadata": {},
   "outputs": [
    {
     "data": {
      "text/html": [
       "<div>\n",
       "<style scoped>\n",
       "    .dataframe tbody tr th:only-of-type {\n",
       "        vertical-align: middle;\n",
       "    }\n",
       "\n",
       "    .dataframe tbody tr th {\n",
       "        vertical-align: top;\n",
       "    }\n",
       "\n",
       "    .dataframe thead th {\n",
       "        text-align: right;\n",
       "    }\n",
       "</style>\n",
       "<table border=\"1\" class=\"dataframe\">\n",
       "  <thead>\n",
       "    <tr style=\"text-align: right;\">\n",
       "      <th></th>\n",
       "      <th>Unnamed: 0</th>\n",
       "      <th>Name</th>\n",
       "      <th>Type</th>\n",
       "      <th>Location</th>\n",
       "      <th>Ratings</th>\n",
       "      <th>Review</th>\n",
       "    </tr>\n",
       "  </thead>\n",
       "  <tbody>\n",
       "    <tr>\n",
       "      <th>0</th>\n",
       "      <td>0</td>\n",
       "      <td>TCS</td>\n",
       "      <td>IT Services &amp; Consulting</td>\n",
       "      <td>Bangalore / Bengaluru +390 other locations</td>\n",
       "      <td>3.7</td>\n",
       "      <td>90.7k</td>\n",
       "    </tr>\n",
       "    <tr>\n",
       "      <th>1</th>\n",
       "      <td>1</td>\n",
       "      <td>Accenture</td>\n",
       "      <td>IT Services &amp; Consulting</td>\n",
       "      <td>Bangalore / Bengaluru +206 other locations</td>\n",
       "      <td>3.8</td>\n",
       "      <td>57.1k</td>\n",
       "    </tr>\n",
       "    <tr>\n",
       "      <th>2</th>\n",
       "      <td>2</td>\n",
       "      <td>Wipro</td>\n",
       "      <td>IT Services &amp; Consulting</td>\n",
       "      <td>Bangalore / Bengaluru +342 other locations</td>\n",
       "      <td>3.7</td>\n",
       "      <td>53.6k</td>\n",
       "    </tr>\n",
       "    <tr>\n",
       "      <th>3</th>\n",
       "      <td>3</td>\n",
       "      <td>Cognizant</td>\n",
       "      <td>IT Services &amp; Consulting</td>\n",
       "      <td>Chennai +192 other locations</td>\n",
       "      <td>3.7</td>\n",
       "      <td>50.7k</td>\n",
       "    </tr>\n",
       "    <tr>\n",
       "      <th>4</th>\n",
       "      <td>4</td>\n",
       "      <td>Capgemini</td>\n",
       "      <td>IT Services &amp; Consulting</td>\n",
       "      <td>Bangalore / Bengaluru +168 other locations</td>\n",
       "      <td>3.7</td>\n",
       "      <td>42.2k</td>\n",
       "    </tr>\n",
       "  </tbody>\n",
       "</table>\n",
       "</div>"
      ],
      "text/plain": [
       "   Unnamed: 0       Name                       Type  \\\n",
       "0           0        TCS  IT Services & Consulting    \n",
       "1           1  Accenture  IT Services & Consulting    \n",
       "2           2      Wipro  IT Services & Consulting    \n",
       "3           3  Cognizant  IT Services & Consulting    \n",
       "4           4  Capgemini  IT Services & Consulting    \n",
       "\n",
       "                                      Location  Ratings Review  \n",
       "0   Bangalore / Bengaluru +390 other locations      3.7  90.7k  \n",
       "1   Bangalore / Bengaluru +206 other locations      3.8  57.1k  \n",
       "2   Bangalore / Bengaluru +342 other locations      3.7  53.6k  \n",
       "3                 Chennai +192 other locations      3.7  50.7k  \n",
       "4   Bangalore / Bengaluru +168 other locations      3.7  42.2k  "
      ]
     },
     "execution_count": 4,
     "metadata": {},
     "output_type": "execute_result"
    }
   ],
   "source": [
    "df.head(5)"
   ]
  },
  {
   "cell_type": "code",
   "execution_count": 5,
   "id": "d5808690-3e8b-46ed-8213-934a9fb90bde",
   "metadata": {},
   "outputs": [
    {
     "data": {
      "text/html": [
       "<div>\n",
       "<style scoped>\n",
       "    .dataframe tbody tr th:only-of-type {\n",
       "        vertical-align: middle;\n",
       "    }\n",
       "\n",
       "    .dataframe tbody tr th {\n",
       "        vertical-align: top;\n",
       "    }\n",
       "\n",
       "    .dataframe thead th {\n",
       "        text-align: right;\n",
       "    }\n",
       "</style>\n",
       "<table border=\"1\" class=\"dataframe\">\n",
       "  <thead>\n",
       "    <tr style=\"text-align: right;\">\n",
       "      <th></th>\n",
       "      <th>Unnamed: 0</th>\n",
       "      <th>Name</th>\n",
       "      <th>Type</th>\n",
       "      <th>Location</th>\n",
       "      <th>Ratings</th>\n",
       "      <th>Review</th>\n",
       "    </tr>\n",
       "  </thead>\n",
       "  <tbody>\n",
       "    <tr>\n",
       "      <th>3878</th>\n",
       "      <td>3878</td>\n",
       "      <td>Ven Consulting</td>\n",
       "      <td>Recruitment</td>\n",
       "      <td>Bangalore / Bengaluru +41 other locations</td>\n",
       "      <td>3.5</td>\n",
       "      <td>222</td>\n",
       "    </tr>\n",
       "    <tr>\n",
       "      <th>1168</th>\n",
       "      <td>1168</td>\n",
       "      <td>Syrma SGS Technologies</td>\n",
       "      <td>Electronics Manufacturing</td>\n",
       "      <td>Chennai +19 other locations</td>\n",
       "      <td>4.2</td>\n",
       "      <td>707</td>\n",
       "    </tr>\n",
       "    <tr>\n",
       "      <th>5650</th>\n",
       "      <td>5650</td>\n",
       "      <td>nurture.farm</td>\n",
       "      <td>Agriculture</td>\n",
       "      <td>Bangalore / Bengaluru +41 other locations</td>\n",
       "      <td>3.3</td>\n",
       "      <td>151</td>\n",
       "    </tr>\n",
       "    <tr>\n",
       "      <th>8674</th>\n",
       "      <td>8674</td>\n",
       "      <td>Ravi Infrabuild Projects</td>\n",
       "      <td>Engineering &amp; Construction</td>\n",
       "      <td>Udaipur +20 other locations</td>\n",
       "      <td>3.8</td>\n",
       "      <td>98</td>\n",
       "    </tr>\n",
       "    <tr>\n",
       "      <th>337</th>\n",
       "      <td>337</td>\n",
       "      <td>Blue Star</td>\n",
       "      <td>Consumer Electronics &amp; Appliances</td>\n",
       "      <td>Mumbai +140 other locations</td>\n",
       "      <td>4.1</td>\n",
       "      <td>2.1k</td>\n",
       "    </tr>\n",
       "    <tr>\n",
       "      <th>9346</th>\n",
       "      <td>9346</td>\n",
       "      <td>ARTEMIS HEALTH CARE</td>\n",
       "      <td>Gurgaon / Gurugram +3 other locations</td>\n",
       "      <td>NaN</td>\n",
       "      <td>4.1</td>\n",
       "      <td>91</td>\n",
       "    </tr>\n",
       "    <tr>\n",
       "      <th>499</th>\n",
       "      <td>499</td>\n",
       "      <td>Infinite Computer Solutions</td>\n",
       "      <td>IT Services &amp; Consulting</td>\n",
       "      <td>Bangalore / Bengaluru +35 other locations</td>\n",
       "      <td>3.3</td>\n",
       "      <td>1.5k</td>\n",
       "    </tr>\n",
       "    <tr>\n",
       "      <th>8545</th>\n",
       "      <td>8545</td>\n",
       "      <td>Simeio Solutions</td>\n",
       "      <td>IT Services &amp; Consulting</td>\n",
       "      <td>Bangalore / Bengaluru +4 other locations</td>\n",
       "      <td>3.4</td>\n",
       "      <td>99</td>\n",
       "    </tr>\n",
       "    <tr>\n",
       "      <th>9339</th>\n",
       "      <td>9339</td>\n",
       "      <td>Nureca Limited</td>\n",
       "      <td>Medical Equipment</td>\n",
       "      <td>Chandigarh +13 other locations</td>\n",
       "      <td>4.2</td>\n",
       "      <td>91</td>\n",
       "    </tr>\n",
       "    <tr>\n",
       "      <th>6118</th>\n",
       "      <td>6118</td>\n",
       "      <td>INDIA TODAY GROUP</td>\n",
       "      <td>Media &amp; Entertainment</td>\n",
       "      <td>New Delhi +10 other locations</td>\n",
       "      <td>3.8</td>\n",
       "      <td>140</td>\n",
       "    </tr>\n",
       "  </tbody>\n",
       "</table>\n",
       "</div>"
      ],
      "text/plain": [
       "      Unnamed: 0                         Name  \\\n",
       "3878        3878               Ven Consulting   \n",
       "1168        1168       Syrma SGS Technologies   \n",
       "5650        5650                 nurture.farm   \n",
       "8674        8674     Ravi Infrabuild Projects   \n",
       "337          337                    Blue Star   \n",
       "9346        9346          ARTEMIS HEALTH CARE   \n",
       "499          499  Infinite Computer Solutions   \n",
       "8545        8545             Simeio Solutions   \n",
       "9339        9339               Nureca Limited   \n",
       "6118        6118            INDIA TODAY GROUP   \n",
       "\n",
       "                                       Type  \\\n",
       "3878                           Recruitment    \n",
       "1168             Electronics Manufacturing    \n",
       "5650                           Agriculture    \n",
       "8674            Engineering & Construction    \n",
       "337      Consumer Electronics & Appliances    \n",
       "9346  Gurgaon / Gurugram +3 other locations   \n",
       "499               IT Services & Consulting    \n",
       "8545              IT Services & Consulting    \n",
       "9339                     Medical Equipment    \n",
       "6118                 Media & Entertainment    \n",
       "\n",
       "                                        Location  Ratings Review  \n",
       "3878   Bangalore / Bengaluru +41 other locations      3.5    222  \n",
       "1168                 Chennai +19 other locations      4.2    707  \n",
       "5650   Bangalore / Bengaluru +41 other locations      3.3    151  \n",
       "8674                 Udaipur +20 other locations      3.8     98  \n",
       "337                  Mumbai +140 other locations      4.1   2.1k  \n",
       "9346                                         NaN      4.1     91  \n",
       "499    Bangalore / Bengaluru +35 other locations      3.3   1.5k  \n",
       "8545    Bangalore / Bengaluru +4 other locations      3.4     99  \n",
       "9339              Chandigarh +13 other locations      4.2     91  \n",
       "6118               New Delhi +10 other locations      3.8    140  "
      ]
     },
     "execution_count": 5,
     "metadata": {},
     "output_type": "execute_result"
    }
   ],
   "source": [
    "df.sample(10)"
   ]
  },
  {
   "cell_type": "markdown",
   "id": "4b7c8901-45ef-42be-b657-1bde3bc75bc7",
   "metadata": {},
   "source": [
    "# This is for see all  sammary of data\n",
    "\n",
    "df.info()\n"
   ]
  },
  {
   "cell_type": "markdown",
   "id": "631b9a92-e07d-4519-9f3e-9b1265b06cf5",
   "metadata": {},
   "source": [
    "# This is for count Null values in data set\n",
    "df.isnull().sum()\n",
    "\n"
   ]
  },
  {
   "cell_type": "markdown",
   "id": "01d0a9a0-a71d-4d9a-8aa8-8b5e30238666",
   "metadata": {},
   "source": [
    "# This is  fot max,min standered daviation:\n",
    "df.describe()"
   ]
  },
  {
   "cell_type": "code",
   "execution_count": 12,
   "id": "a25767c2-de21-4f54-887d-ad06268fa42d",
   "metadata": {},
   "outputs": [
    {
     "data": {
      "text/plain": [
       "np.int64(0)"
      ]
     },
     "execution_count": 12,
     "metadata": {},
     "output_type": "execute_result"
    }
   ],
   "source": [
    "df.duplicated().sum()"
   ]
  },
  {
   "cell_type": "markdown",
   "id": "2557149d-5c90-4fa7-991b-d6333324757c",
   "metadata": {},
   "source": [
    "# Coreletion Between the columns\n",
    "# Here i find the corelation between the column and Review column\n"
   ]
  },
  {
   "cell_type": "markdown",
   "id": "50f97e50-1dba-42c7-8158-c12d1d141946",
   "metadata": {},
   "source": [
    "#  Univariate analysis of data"
   ]
  },
  {
   "cell_type": "markdown",
   "id": "d020a172-8c99-40d8-a138-7ed55b5dc588",
   "metadata": {},
   "source": [
    "# Want to use seaborn to count plot: on a column:"
   ]
  },
  {
   "cell_type": "code",
   "execution_count": 7,
   "id": "faabf3c4-4f67-4c99-8629-35e022c68499",
   "metadata": {},
   "outputs": [
    {
     "name": "stdout",
     "output_type": "stream",
     "text": [
      "Defaulting to user installation because normal site-packages is not writeable\n",
      "Collecting seaborn\n",
      "  Downloading seaborn-0.13.2-py3-none-any.whl (294 kB)\n",
      "\u001b[2K     \u001b[38;2;114;156;31m━━━━━━━━━━━━━━━━━━━━━━━━━━━━━━━━━━━━━━━\u001b[0m \u001b[32m294.9/294.9 KB\u001b[0m \u001b[31m1.4 MB/s\u001b[0m eta \u001b[36m0:00:00\u001b[0m[31m1.2 MB/s\u001b[0m eta \u001b[36m0:00:01\u001b[0m\n",
      "Requirement already satisfied: pandas>=1.2 in /home/srabon/.local/lib/python3.10/site-packages (from seaborn) (2.2.3)\n",
      "Requirement already satisfied: numpy!=1.24.0,>=1.20 in /home/srabon/.local/lib/python3.10/site-packages (from seaborn) (2.2.3)\n",
      "Collecting matplotlib!=3.6.1,>=3.4\n",
      "  Downloading matplotlib-3.10.1-cp310-cp310-manylinux_2_17_x86_64.manylinux2014_x86_64.whl (8.6 MB)\n",
      "\u001b[2K     \u001b[38;2;114;156;31m━━━━━━━━━━━━━━━━━━━━━━━━━━━━━━━━━━━━━━━━\u001b[0m \u001b[32m8.6/8.6 MB\u001b[0m \u001b[31m7.4 MB/s\u001b[0m eta \u001b[36m0:00:00\u001b[0mm eta \u001b[36m0:00:01\u001b[0m[36m0:00:01\u001b[0m\n",
      "Collecting cycler>=0.10\n",
      "  Downloading cycler-0.12.1-py3-none-any.whl (8.3 kB)\n",
      "Requirement already satisfied: pillow>=8 in /usr/lib/python3/dist-packages (from matplotlib!=3.6.1,>=3.4->seaborn) (9.0.1)\n",
      "Requirement already satisfied: packaging>=20.0 in /home/srabon/.local/lib/python3.10/site-packages (from matplotlib!=3.6.1,>=3.4->seaborn) (24.2)\n",
      "Requirement already satisfied: pyparsing>=2.3.1 in /usr/lib/python3/dist-packages (from matplotlib!=3.6.1,>=3.4->seaborn) (2.4.7)\n",
      "Collecting fonttools>=4.22.0\n",
      "  Downloading fonttools-4.56.0-cp310-cp310-manylinux_2_17_x86_64.manylinux2014_x86_64.whl (4.6 MB)\n",
      "\u001b[2K     \u001b[38;2;114;156;31m━━━━━━━━━━━━━━━━━━━━━━━━━━━━━━━━━━━━━━━━\u001b[0m \u001b[32m4.6/4.6 MB\u001b[0m \u001b[31m7.2 MB/s\u001b[0m eta \u001b[36m0:00:00\u001b[0mm eta \u001b[36m0:00:01\u001b[0m0:01\u001b[0m:01\u001b[0m\n",
      "\u001b[?25hRequirement already satisfied: python-dateutil>=2.7 in /home/srabon/.local/lib/python3.10/site-packages (from matplotlib!=3.6.1,>=3.4->seaborn) (2.9.0.post0)\n",
      "Collecting contourpy>=1.0.1\n",
      "  Downloading contourpy-1.3.1-cp310-cp310-manylinux_2_17_x86_64.manylinux2014_x86_64.whl (324 kB)\n",
      "\u001b[2K     \u001b[38;2;114;156;31m━━━━━━━━━━━━━━━━━━━━━━━━━━━━━━━━━━━━━━━\u001b[0m \u001b[32m325.0/325.0 KB\u001b[0m \u001b[31m9.3 MB/s\u001b[0m eta \u001b[36m0:00:00\u001b[0m[36m0:00:01\u001b[0m\n",
      "Collecting kiwisolver>=1.3.1\n",
      "  Downloading kiwisolver-1.4.8-cp310-cp310-manylinux_2_12_x86_64.manylinux2010_x86_64.whl (1.6 MB)\n",
      "\u001b[2K     \u001b[38;2;114;156;31m━━━━━━━━━━━━━━━━━━━━━━━━━━━━━━━━━━━━━━━━\u001b[0m \u001b[32m1.6/1.6 MB\u001b[0m \u001b[31m8.3 MB/s\u001b[0m eta \u001b[36m0:00:00\u001b[0m MB/s\u001b[0m eta \u001b[36m0:00:01\u001b[0m:01\u001b[0mm\n",
      "Requirement already satisfied: tzdata>=2022.7 in /home/srabon/.local/lib/python3.10/site-packages (from pandas>=1.2->seaborn) (2025.1)\n",
      "Requirement already satisfied: pytz>=2020.1 in /usr/lib/python3/dist-packages (from pandas>=1.2->seaborn) (2022.1)\n",
      "Requirement already satisfied: six>=1.5 in /usr/lib/python3/dist-packages (from python-dateutil>=2.7->matplotlib!=3.6.1,>=3.4->seaborn) (1.16.0)\n",
      "Installing collected packages: kiwisolver, fonttools, cycler, contourpy, matplotlib, seaborn\n",
      "Successfully installed contourpy-1.3.1 cycler-0.12.1 fonttools-4.56.0 kiwisolver-1.4.8 matplotlib-3.10.1 seaborn-0.13.2\n"
     ]
    }
   ],
   "source": [
    "!pip install seaborn"
   ]
  },
  {
   "cell_type": "code",
   "execution_count": 15,
   "id": "d872f6c4-bb2b-42a1-834b-8d8ff0e5d669",
   "metadata": {},
   "outputs": [
    {
     "data": {
      "text/plain": [
       "<Axes: ylabel='count'>"
      ]
     },
     "execution_count": 15,
     "metadata": {},
     "output_type": "execute_result"
    },
    {
     "data": {
      "image/png": "[encoded data removed]",
      "text/plain": [
       "<Figure size 640x480 with 1 Axes>"
      ]
     },
     "metadata": {},
     "output_type": "display_data"
    }
   ],
   "source": [
    "import seaborn as sns\n",
    "#sns.countplot(df['Ratings'])\n",
    "df['Ratings'] .value_counts().plot(kind='pie',autopct='%.2f')"
   ]
  },
  {
   "cell_type": "markdown",
   "id": "dea68f62-7754-46ed-b416-26e67cb0f3a1",
   "metadata": {},
   "source": [
    "# Histograme:(KONO column a data range ar moddhe koto data ache ta bujhar jonno):"
   ]
  },
  {
   "cell_type": "code",
   "execution_count": 17,
   "id": "d46a6dcc-1ff4-40b9-b53f-bfd5125c32af",
   "metadata": {},
   "outputs": [
    {
     "data": {
      "text/plain": [
       "(array([3.000e+00, 4.000e+00, 1.200e+01, 4.100e+01, 2.370e+02, 1.460e+03,\n",
       "        3.409e+03, 3.174e+03, 1.505e+03, 1.350e+02]),\n",
       " array([1. , 1.4, 1.8, 2.2, 2.6, 3. , 3.4, 3.8, 4.2, 4.6, 5. ]),\n",
       " <BarContainer object of 10 artists>)"
      ]
     },
     "execution_count": 17,
     "metadata": {},
     "output_type": "execute_result"
    },
    {
     "data": {
      "image/png": "[encoded data removed]",
      "text/plain": [
       "<Figure size 640x480 with 1 Axes>"
      ]
     },
     "metadata": {},
     "output_type": "display_data"
    }
   ],
   "source": [
    "import matplotlib.pyplot as plt\n",
    "plt.hist(df['Ratings'])"
   ]
  },
  {
   "cell_type": "markdown",
   "id": "6424ee1c-75fd-4710-a8ba-b856914980cc",
   "metadata": {},
   "source": [
    "# Distplot :"
   ]
  },
  {
   "cell_type": "code",
   "execution_count": 18,
   "id": "70b5bbb7-785d-4ae4-ab60-6cf7dd5b812e",
   "metadata": {},
   "outputs": [
    {
     "name": "stderr",
     "output_type": "stream",
     "text": [
      "/tmp/ipykernel_35105/3742580029.py:1: UserWarning: \n",
      "\n",
      "`distplot` is a deprecated function and will be removed in seaborn v0.14.0.\n",
      "\n",
      "Please adapt your code to use either `displot` (a figure-level function with\n",
      "similar flexibility) or `histplot` (an axes-level function for histograms).\n",
      "\n",
      "For a guide to updating your code to use the new functions, please see\n",
      "https://gist.github.com/mwaskom/de44147ed2974457ad6372750bbe5751\n",
      "\n",
      "  sns.distplot(df['Ratings'])\n"
     ]
    },
    {
     "data": {
      "text/plain": [
       "<Axes: xlabel='Ratings', ylabel='Density'>"
      ]
     },
     "execution_count": 18,
     "metadata": {},
     "output_type": "execute_result"
    },
    {
     "data": {
      "image/png": "[encoded data removed]",
      "text/plain": [
       "<Figure size 640x480 with 1 Axes>"
      ]
     },
     "metadata": {},
     "output_type": "display_data"
    }
   ],
   "source": [
    "sns.distplot(df['Ratings'])"
   ]
  },
  {
   "cell_type": "code",
   "execution_count": 20,
   "id": "11b66ec5-c844-4920-a6ac-0cd1accabc97",
   "metadata": {},
   "outputs": [
    {
     "data": {
      "text/plain": [
       "<Axes: ylabel='Review'>"
      ]
     },
     "execution_count": 20,
     "metadata": {},
     "output_type": "execute_result"
    },
    {
     "data": {
      "image/png": "[encoded data removed]",
      "text/plain": [
       "<Figure size 640x480 with 1 Axes>"
      ]
     },
     "metadata": {},
     "output_type": "display_data"
    }
   ],
   "source": [
    "sns.boxplot(df['Review'])"
   ]
  },
  {
   "cell_type": "code",
   "execution_count": 22,
   "id": "fe612a7e-cad0-49ac-90c9-95ba79afb095",
   "metadata": {},
   "outputs": [
    {
     "data": {
      "text/plain": [
       "np.float64(1.0)"
      ]
     },
     "execution_count": 22,
     "metadata": {},
     "output_type": "execute_result"
    }
   ],
   "source": [
    "df['Ratings'].min()"
   ]
  },
  {
   "cell_type": "code",
   "execution_count": 23,
   "id": "4f094ad7-11b8-424e-811d-a17d3ec4a240",
   "metadata": {},
   "outputs": [
    {
     "data": {
      "text/plain": [
       "np.float64(5.0)"
      ]
     },
     "execution_count": 23,
     "metadata": {},
     "output_type": "execute_result"
    }
   ],
   "source": [
    "df['Ratings'].max()"
   ]
  },
  {
   "cell_type": "code",
   "execution_count": 25,
   "id": "cabd4124-b02e-4a38-be79-0642f6734f88",
   "metadata": {},
   "outputs": [
    {
     "data": {
      "text/plain": [
       "np.float64(-0.7145748486181093)"
      ]
     },
     "execution_count": 25,
     "metadata": {},
     "output_type": "execute_result"
    }
   ],
   "source": [
    "df[\"Ratings\"].skew()"
   ]
  },
  {
   "cell_type": "code",
   "execution_count": null,
   "id": "4b0c79ff-baf9-4b32-ae98-20f46f15802b",
   "metadata": {},
   "outputs": [],
   "source": []
  }
 ],
 "metadata": {
  "kernelspec": {
   "display_name": "Python 3 (ipykernel)",
   "language": "python",
   "name": "python3"
  },
  "language_info": {
   "codemirror_mode": {
    "name": "ipython",
    "version": 3
   },
   "file_extension": ".py",
   "mimetype": "text/x-python",
   "name": "python",
   "nbconvert_exporter": "python",
   "pygments_lexer": "ipython3",
   "version": "3.10.12"
  }
 },
 "nbformat": 4,
 "nbformat_minor": 5
}
