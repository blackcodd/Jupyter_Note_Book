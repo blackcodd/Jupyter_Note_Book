{
 "cells": [
  {
   "cell_type": "code",
   "execution_count": 10,
   "id": "beaf17f6-03ef-416a-ac69-1254858a5f7d",
   "metadata": {},
   "outputs": [],
   "source": [
    "import pandas as pd\n"
   ]
  },
  {
   "cell_type": "code",
   "execution_count": 11,
   "id": "e5bc09ec-ca68-4eca-a3ff-c6ea8a90f8f9",
   "metadata": {},
   "outputs": [
    {
     "data": {
      "text/html": [
       "<div>\n",
       "<style scoped>\n",
       "    .dataframe tbody tr th:only-of-type {\n",
       "        vertical-align: middle;\n",
       "    }\n",
       "\n",
       "    .dataframe tbody tr th {\n",
       "        vertical-align: top;\n",
       "    }\n",
       "\n",
       "    .dataframe thead th {\n",
       "        text-align: right;\n",
       "    }\n",
       "</style>\n",
       "<table border=\"1\" class=\"dataframe\">\n",
       "  <thead>\n",
       "    <tr style=\"text-align: right;\">\n",
       "      <th></th>\n",
       "      <th>Unnamed: 0</th>\n",
       "      <th>Name</th>\n",
       "      <th>Type</th>\n",
       "      <th>Location</th>\n",
       "      <th>Ratings</th>\n",
       "      <th>Review</th>\n",
       "    </tr>\n",
       "  </thead>\n",
       "  <tbody>\n",
       "    <tr>\n",
       "      <th>0</th>\n",
       "      <td>0</td>\n",
       "      <td>TCS</td>\n",
       "      <td>IT Services &amp; Consulting</td>\n",
       "      <td>Bangalore / Bengaluru +390 other locations</td>\n",
       "      <td>3.7</td>\n",
       "      <td>90.7k</td>\n",
       "    </tr>\n",
       "    <tr>\n",
       "      <th>1</th>\n",
       "      <td>1</td>\n",
       "      <td>Accenture</td>\n",
       "      <td>IT Services &amp; Consulting</td>\n",
       "      <td>Bangalore / Bengaluru +206 other locations</td>\n",
       "      <td>3.8</td>\n",
       "      <td>57.1k</td>\n",
       "    </tr>\n",
       "    <tr>\n",
       "      <th>2</th>\n",
       "      <td>2</td>\n",
       "      <td>Wipro</td>\n",
       "      <td>IT Services &amp; Consulting</td>\n",
       "      <td>Bangalore / Bengaluru +342 other locations</td>\n",
       "      <td>3.7</td>\n",
       "      <td>53.6k</td>\n",
       "    </tr>\n",
       "    <tr>\n",
       "      <th>3</th>\n",
       "      <td>3</td>\n",
       "      <td>Cognizant</td>\n",
       "      <td>IT Services &amp; Consulting</td>\n",
       "      <td>Chennai +192 other locations</td>\n",
       "      <td>3.7</td>\n",
       "      <td>50.7k</td>\n",
       "    </tr>\n",
       "    <tr>\n",
       "      <th>4</th>\n",
       "      <td>4</td>\n",
       "      <td>Capgemini</td>\n",
       "      <td>IT Services &amp; Consulting</td>\n",
       "      <td>Bangalore / Bengaluru +168 other locations</td>\n",
       "      <td>3.7</td>\n",
       "      <td>42.2k</td>\n",
       "    </tr>\n",
       "  </tbody>\n",
       "</table>\n",
       "</div>"
      ],
      "text/plain": [
       "   Unnamed: 0       Name                       Type  \\\n",
       "0           0        TCS  IT Services & Consulting    \n",
       "1           1  Accenture  IT Services & Consulting    \n",
       "2           2      Wipro  IT Services & Consulting    \n",
       "3           3  Cognizant  IT Services & Consulting    \n",
       "4           4  Capgemini  IT Services & Consulting    \n",
       "\n",
       "                                      Location  Ratings Review  \n",
       "0   Bangalore / Bengaluru +390 other locations      3.7  90.7k  \n",
       "1   Bangalore / Bengaluru +206 other locations      3.8  57.1k  \n",
       "2   Bangalore / Bengaluru +342 other locations      3.7  53.6k  \n",
       "3                 Chennai +192 other locations      3.7  50.7k  \n",
       "4   Bangalore / Bengaluru +168 other locations      3.7  42.2k  "
      ]
     },
     "execution_count": 11,
     "metadata": {},
     "output_type": "execute_result"
    }
   ],
   "source": [
    "df=pd.read_csv('Companies in india')\n",
    "df.head()"
   ]
  },
  {
   "cell_type": "markdown",
   "id": "9583e957-b09c-40ab-99f0-a0d09fd1e6ff",
   "metadata": {},
   "source": [
    "# install pandus-profiling"
   ]
  },
  {
   "cell_type": "code",
   "execution_count": 12,
   "id": "72841634-1fa9-4ed0-9a04-7aece6306c24",
   "metadata": {},
   "outputs": [
    {
     "data": {
      "application/vnd.jupyter.widget-view+json": {
       "model_id": "b4c615530ce84678953c5c1d8f7e3cee",
       "version_major": 2,
       "version_minor": 0
      },
      "text/plain": [
       "Summarize dataset:   0%|          | 0/5 [00:00<?, ?it/s]"
      ]
     },
     "metadata": {},
     "output_type": "display_data"
    },
    {
     "data": {
      "application/vnd.jupyter.widget-view+json": {
       "model_id": "91080407f24948dd8231f6610e552705",
       "version_major": 2,
       "version_minor": 0
      },
      "text/plain": [
       "Generate report structure:   0%|          | 0/1 [00:00<?, ?it/s]"
      ]
     },
     "metadata": {},
     "output_type": "display_data"
    },
    {
     "data": {
      "application/vnd.jupyter.widget-view+json": {
       "model_id": "c5bb939f802240e0997f465811cb7234",
       "version_major": 2,
       "version_minor": 0
      },
      "text/plain": [
       "Render HTML:   0%|          | 0/1 [00:00<?, ?it/s]"
      ]
     },
     "metadata": {},
     "output_type": "display_data"
    },
    {
     "data": {
      "application/vnd.jupyter.widget-view+json": {
       "model_id": "f22b18913ab64b45b28f38f486377cb3",
       "version_major": 2,
       "version_minor": 0
      },
      "text/plain": [
       "Export report to file:   0%|          | 0/1 [00:00<?, ?it/s]"
      ]
     },
     "metadata": {},
     "output_type": "display_data"
    }
   ],
   "source": [
    "from ydata_profiling import ProfileReport\n",
    "from ydata_profiling.config import Settings\n",
    "\n",
    "settings = Settings()\n",
    "settings.plot.font_path = \"/home/srabon/Documents/DejaVuSans.ttf\"  # Adjust this path\n",
    "\n",
    "prof = ProfileReport(df, explorative=True, config=settings)\n",
    "prof.to_file(\"OUT INDIAS COMPANY.html\")\n",
    "\n"
   ]
  },
  {
   "cell_type": "code",
   "execution_count": null,
   "id": "5eeda444-fc26-4b42-a387-c398b47beb42",
   "metadata": {},
   "outputs": [],
   "source": []
  }
 ],
 "metadata": {
  "kernelspec": {
   "display_name": "Python 3 (ipykernel)",
   "language": "python",
   "name": "python3"
  },
  "language_info": {
   "codemirror_mode": {
    "name": "ipython",
    "version": 3
   },
   "file_extension": ".py",
   "mimetype": "text/x-python",
   "name": "python",
   "nbconvert_exporter": "python",
   "pygments_lexer": "ipython3",
   "version": "3.10.12"
  }
 },
 "nbformat": 4,
 "nbformat_minor": 5
}
